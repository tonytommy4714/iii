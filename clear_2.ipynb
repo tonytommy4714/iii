{
 "cells": [
  {
   "cell_type": "code",
   "execution_count": 1,
   "metadata": {},
   "outputs": [],
   "source": [
    "import  pandas as pd\n",
    "from os.path import join\n",
    "import os"
   ]
  },
  {
   "cell_type": "code",
   "execution_count": 2,
   "metadata": {},
   "outputs": [],
   "source": [
    "fullpath=[]\n",
    "filename=[]\n",
    "storepath=[]\n",
    "for datapath,dirs,files in os.walk(r'C:\\Users\\Big data\\Desktop\\state_code'):\n",
    "    for f in files:\n",
    "        fullpath.append(join(datapath,f))\n",
    "        \n",
    "        filename.append(f)"
   ]
  },
  {
   "cell_type": "code",
   "execution_count": 4,
   "metadata": {},
   "outputs": [
    {
     "data": {
      "text/plain": [
       "'lease_all_2009.csv'"
      ]
     },
     "execution_count": 4,
     "metadata": {},
     "output_type": "execute_result"
    }
   ],
   "source": []
  },
  {
   "cell_type": "code",
   "execution_count": 12,
   "metadata": {},
   "outputs": [],
   "source": [
    "for i in range(len(fullpath)):\n",
    "    table=pd.read_csv(fullpath[i])\n",
    "    table['dealTime']=table['dealTime'].apply(lambda x:x.replace('\\'',\"\"))\n",
    "    table['district']=table['district'].apply(lambda x:x.replace('\\'',\"\"))\n",
    "    table['address']=table['address'].apply(lambda x:x.replace('\\'',\"\"))\n",
    "    table['usage']=table['usage'].apply(lambda x:x.replace('\\'',\"\"))\n",
    "    table['houseType']=table['houseType'].apply(lambda x:x.replace('\\'',\"\"))\n",
    "    table['unitPrice']=table['unitPrice'].apply(lambda x:x.replace('\\'',\"\"))\n",
    "    table['pattern']=table['pattern'].apply(lambda x:x.replace('\\'',\"\"))\n",
    "    table['floor']=table['state_code'].apply(lambda x:int(str(x).replace('\\'',\"\")))\n",
    "    table['floorSum']=table['floorSum'].apply(lambda x:str(x).replace('\\'',\"\"))\n",
    "    path='C:/Users/Big data/Desktop/a/'+filename[i]\n",
    "    table.to_csv(path, index=False,encoding=\"utf_8_sig\")\n",
    "    "
   ]
  },
  {
   "cell_type": "code",
   "execution_count": null,
   "metadata": {},
   "outputs": [],
   "source": [
    "['dealTime','district','address','lat','lon','usage','houseType','unitPrice','pattern','floor','floorSum','state_code']"
   ]
  }
 ],
 "metadata": {
  "kernelspec": {
   "display_name": "Python 3",
   "language": "python",
   "name": "python3"
  },
  "language_info": {
   "codemirror_mode": {
    "name": "ipython",
    "version": 3
   },
   "file_extension": ".py",
   "mimetype": "text/x-python",
   "name": "python",
   "nbconvert_exporter": "python",
   "pygments_lexer": "ipython3",
   "version": "3.6.5"
  }
 },
 "nbformat": 4,
 "nbformat_minor": 2
}
