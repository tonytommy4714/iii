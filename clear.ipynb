{
 "cells": [
  {
   "cell_type": "code",
   "execution_count": 1,
   "metadata": {},
   "outputs": [],
   "source": [
    "import  pandas as pd\n",
    "from os.path import join\n",
    "import os\n",
    "import csv"
   ]
  },
  {
   "cell_type": "code",
   "execution_count": 2,
   "metadata": {},
   "outputs": [],
   "source": [
    "#table=pd.read_csv(r\"C:\\Users\\Big data\\Desktop\\user\\lease_all_2008_mean\\part-00000.csv\", header=-1 )\n",
    "#table1=pd.read_csv(r\"C:\\Users\\Big data\\Desktop\\user\\lease_all_2008_mean\\part-00001.csv\",header=-1 )\n",
    "table3=pd.read_csv(r\"C:\\Users\\Big data\\Desktop\\user\\lease_all_2008\\part-00000.csv\", header=-1,encoding=\"utf-8\" )\n",
    "table4=pd.read_csv(r\"C:\\Users\\Big data\\Desktop\\user\\lease_all_2008\\part-00001.csv\",header=-1 ,encoding=\"utf-8\")"
   ]
  },
  {
   "cell_type": "code",
   "execution_count": 3,
   "metadata": {},
   "outputs": [],
   "source": [
    "#table2=table.append(table1,ignore_index=True)\n",
    "table5=table3.append(table4,ignore_index=True)"
   ]
  },
  {
   "cell_type": "code",
   "execution_count": 4,
   "metadata": {
    "scrolled": false
   },
   "outputs": [],
   "source": [
    "#table2.columns=['state_code','meanprice','median_price','std_price','variance_price','q3_price','q1_price','meanfloorsum','median_floorsum','std_floorsum','variance_floorsum','q3_floorsum','q1_floorsum']\n",
    "table5.columns=['dealTime','district','address','lat','lon','usage','houseType','unitPrice','pattern','floor','floorSum','state_code']"
   ]
  },
  {
   "cell_type": "markdown",
   "metadata": {
    "scrolled": false
   },
   "source": [
    "table2['state_code']=table2['state_code'].apply(lambda x:x.replace(\"[\",\" \"))\n",
    "table2['q1_floorsum']=table2['q1_floorsum'].apply(lambda x:x.replace(\"]\",\" \"))\n",
    "table2['state_code']=table2['state_code'].apply(lambda x:x.replace('\\'',\"\"))"
   ]
  },
  {
   "cell_type": "code",
   "execution_count": 5,
   "metadata": {},
   "outputs": [],
   "source": [
    "table5['dealTime']=table5['dealTime'].apply(lambda x:x.replace(\"[\",\" \"))\n",
    "table5['state_code']=table5['state_code'].apply(lambda x:x.replace(\"]\",\" \"))\n",
    "table5['state_code']=table5['state_code'].apply(lambda x:x.replace('\\'',\"\"))"
   ]
  },
  {
   "cell_type": "markdown",
   "metadata": {},
   "source": [
    "table2['Year']=2017"
   ]
  },
  {
   "cell_type": "code",
   "execution_count": 6,
   "metadata": {},
   "outputs": [],
   "source": [
    "#table2.head()"
   ]
  },
  {
   "cell_type": "markdown",
   "metadata": {},
   "source": [
    "table2.loc[0:50]"
   ]
  },
  {
   "cell_type": "markdown",
   "metadata": {},
   "source": [
    "table[\"floor\"].apply(lambda x: x=  if str(x)==\"-\"else x)"
   ]
  },
  {
   "cell_type": "markdown",
   "metadata": {},
   "source": [
    "i=0\n",
    "a=0\n",
    "for i in range(len(table)):\n",
    "    if str(table.loc[i,[\"floor\"]])==\"-\":\n",
    "        a+=1\n",
    "        table.loc[i,[\"floor\"]]=\"0\" "
   ]
  },
  {
   "cell_type": "markdown",
   "metadata": {},
   "source": [
    "a"
   ]
  },
  {
   "cell_type": "markdown",
   "metadata": {
    "scrolled": false
   },
   "source": [
    "table.loc[15566,[\"floor\"]]"
   ]
  },
  {
   "cell_type": "markdown",
   "metadata": {},
   "source": [
    "try:\n",
    "    i=1\n",
    "    for i in range(len(table)):\n",
    "        float(table.loc[i,[\"floor\"]])\n",
    "        \n",
    "except:\n",
    "    print(i)\n",
    "    \n",
    "    "
   ]
  },
  {
   "cell_type": "markdown",
   "metadata": {},
   "source": [
    "try:\n",
    "    i=1\n",
    "    for i in range(len(table)):\n",
    "        float(table.loc[i,[\"floorSum\"]])\n",
    "        \n",
    "except:\n",
    "    print(i)"
   ]
  },
  {
   "cell_type": "markdown",
   "metadata": {
    "scrolled": true
   },
   "source": [
    "table[\"floorSum\"].apply(lambda x:float(x))"
   ]
  },
  {
   "cell_type": "markdown",
   "metadata": {
    "scrolled": true
   },
   "source": [
    "table[\"floor\"].apply(lambda x:float(x))"
   ]
  },
  {
   "cell_type": "code",
   "execution_count": 7,
   "metadata": {},
   "outputs": [],
   "source": [
    "#table2.to_csv('lease_all_2008_mean.csv', index=False,encoding=\"utf_8\")"
   ]
  },
  {
   "cell_type": "code",
   "execution_count": 9,
   "metadata": {},
   "outputs": [],
   "source": [
    "table5.to_csv('lease_all_2008.csv', index=False,encoding=\"utf_8_sig\")"
   ]
  },
  {
   "cell_type": "markdown",
   "metadata": {},
   "source": [
    "w = csv.writer(table5)\n",
    "w.writerows(data)\n",
    "f.close()"
   ]
  }
 ],
 "metadata": {
  "kernelspec": {
   "display_name": "Python 3",
   "language": "python",
   "name": "python3"
  },
  "language_info": {
   "codemirror_mode": {
    "name": "ipython",
    "version": 3
   },
   "file_extension": ".py",
   "mimetype": "text/x-python",
   "name": "python",
   "nbconvert_exporter": "python",
   "pygments_lexer": "ipython3",
   "version": "3.6.5"
  }
 },
 "nbformat": 4,
 "nbformat_minor": 2
}
