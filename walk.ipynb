{
 "cells": [
  {
   "cell_type": "code",
   "execution_count": 1,
   "metadata": {},
   "outputs": [],
   "source": [
    "import os\n",
    "import pandas as pd\n",
    "from os.path import join\n",
    "import numpy as np\n",
    "from openpyxl import Workbook"
   ]
  },
  {
   "cell_type": "code",
   "execution_count": 3,
   "metadata": {},
   "outputs": [],
   "source": [
    "path ='C:/Users/Big data/Desktop/All'"
   ]
  },
  {
   "cell_type": "code",
   "execution_count": 4,
   "metadata": {},
   "outputs": [],
   "source": [
    "fullpath=[]\n",
    "filename=[]\n",
    "storepath=[]\n",
    "for datapath,dirs,files in os.walk(path):\n",
    "    for f in files:\n",
    "        fullpath.append(join(datapath,f))\n",
    "        \n",
    "        filename.append(f)\n",
    "        \n",
    "    \n",
    "    "
   ]
  },
  {
   "cell_type": "code",
   "execution_count": 12,
   "metadata": {
    "scrolled": true
   },
   "outputs": [
    {
     "data": {
      "text/plain": [
       "77"
      ]
     },
     "execution_count": 12,
     "metadata": {},
     "output_type": "execute_result"
    }
   ],
   "source": [
    "len(fullpath)\n",
    "len(filename)"
   ]
  },
  {
   "cell_type": "code",
   "execution_count": 11,
   "metadata": {},
   "outputs": [
    {
     "data": {
      "text/plain": [
       "77"
      ]
     },
     "execution_count": 11,
     "metadata": {},
     "output_type": "execute_result"
    }
   ],
   "source": [
    "len(fullpath)"
   ]
  },
  {
   "cell_type": "code",
   "execution_count": 14,
   "metadata": {
    "scrolled": true
   },
   "outputs": [
    {
     "name": "stdout",
     "output_type": "stream",
     "text": [
      "C:/Users/Big data/Desktop/data1/中山區2008.xlsx\n",
      "C:/Users/Big data/Desktop/data1/中山區2009.xlsx\n",
      "C:/Users/Big data/Desktop/data1/中山區2010.xlsx\n",
      "C:/Users/Big data/Desktop/data1/中山區2011.xlsx\n",
      "C:/Users/Big data/Desktop/data1/中山區2012.xlsx\n",
      "C:/Users/Big data/Desktop/data1/中山區2013.xlsx\n",
      "C:/Users/Big data/Desktop/data1/中山區2014.xlsx\n",
      "C:/Users/Big data/Desktop/data1/中山區2015.xlsx\n",
      "C:/Users/Big data/Desktop/data1/中山區2016.xlsx\n",
      "C:/Users/Big data/Desktop/data1/中山區2017.xlsx\n",
      "C:/Users/Big data/Desktop/data1/中山區2018.xlsx\n",
      "C:/Users/Big data/Desktop/data1/中正區2008.xlsx\n",
      "C:/Users/Big data/Desktop/data1/中正區2009.xlsx\n",
      "C:/Users/Big data/Desktop/data1/中正區2010.xlsx\n",
      "C:/Users/Big data/Desktop/data1/中正區2011.xlsx\n",
      "C:/Users/Big data/Desktop/data1/中正區2012.xlsx\n",
      "C:/Users/Big data/Desktop/data1/中正區2013.xlsx\n",
      "C:/Users/Big data/Desktop/data1/中正區2014.xlsx\n",
      "C:/Users/Big data/Desktop/data1/中正區2015.xlsx\n",
      "C:/Users/Big data/Desktop/data1/中正區2016.xlsx\n",
      "C:/Users/Big data/Desktop/data1/中正區2017.xlsx\n",
      "C:/Users/Big data/Desktop/data1/中正區2018.xlsx\n",
      "C:/Users/Big data/Desktop/data1/信義區2008.xlsx\n",
      "C:/Users/Big data/Desktop/data1/信義區2009.xlsx\n",
      "C:/Users/Big data/Desktop/data1/信義區2010.xlsx\n",
      "C:/Users/Big data/Desktop/data1/信義區2011.xlsx\n",
      "C:/Users/Big data/Desktop/data1/信義區2012.xlsx\n",
      "C:/Users/Big data/Desktop/data1/信義區2013.xlsx\n",
      "C:/Users/Big data/Desktop/data1/信義區2014.xlsx\n",
      "C:/Users/Big data/Desktop/data1/信義區2015.xlsx\n",
      "C:/Users/Big data/Desktop/data1/信義區2016.xlsx\n",
      "C:/Users/Big data/Desktop/data1/信義區2017.xlsx\n",
      "C:/Users/Big data/Desktop/data1/信義區2018.xlsx\n",
      "C:/Users/Big data/Desktop/data1/內湖區2008.xlsx\n",
      "C:/Users/Big data/Desktop/data1/內湖區2009.xlsx\n",
      "C:/Users/Big data/Desktop/data1/內湖區2010.xlsx\n",
      "C:/Users/Big data/Desktop/data1/內湖區2011.xlsx\n",
      "C:/Users/Big data/Desktop/data1/內湖區2012.xlsx\n",
      "C:/Users/Big data/Desktop/data1/內湖區2013.xlsx\n",
      "C:/Users/Big data/Desktop/data1/內湖區2014.xlsx\n",
      "C:/Users/Big data/Desktop/data1/內湖區2015.xlsx\n",
      "C:/Users/Big data/Desktop/data1/內湖區2016.xlsx\n",
      "C:/Users/Big data/Desktop/data1/內湖區2017.xlsx\n",
      "C:/Users/Big data/Desktop/data1/內湖區2018.xlsx\n",
      "C:/Users/Big data/Desktop/data1/北投區2008.xlsx\n",
      "C:/Users/Big data/Desktop/data1/北投區2009.xlsx\n",
      "C:/Users/Big data/Desktop/data1/北投區2010.xlsx\n",
      "C:/Users/Big data/Desktop/data1/北投區2011.xlsx\n",
      "C:/Users/Big data/Desktop/data1/北投區2012.xlsx\n",
      "C:/Users/Big data/Desktop/data1/北投區2013.xlsx\n",
      "C:/Users/Big data/Desktop/data1/北投區2014.xlsx\n",
      "C:/Users/Big data/Desktop/data1/北投區2015.xlsx\n",
      "C:/Users/Big data/Desktop/data1/北投區2016.xlsx\n",
      "C:/Users/Big data/Desktop/data1/北投區2017.xlsx\n",
      "C:/Users/Big data/Desktop/data1/北投區2018.xlsx\n",
      "C:/Users/Big data/Desktop/data1/南港區2008.xlsx\n",
      "C:/Users/Big data/Desktop/data1/南港區2009.xlsx\n",
      "C:/Users/Big data/Desktop/data1/南港區2010.xlsx\n",
      "C:/Users/Big data/Desktop/data1/南港區2011.xlsx\n",
      "C:/Users/Big data/Desktop/data1/南港區2012.xlsx\n",
      "C:/Users/Big data/Desktop/data1/南港區2013.xlsx\n",
      "C:/Users/Big data/Desktop/data1/南港區2014.xlsx\n",
      "C:/Users/Big data/Desktop/data1/南港區2015.xlsx\n",
      "C:/Users/Big data/Desktop/data1/南港區2016.xlsx\n",
      "C:/Users/Big data/Desktop/data1/南港區2017.xlsx\n",
      "C:/Users/Big data/Desktop/data1/南港區2018.xlsx\n",
      "C:/Users/Big data/Desktop/data1/士林區2008.xlsx\n",
      "C:/Users/Big data/Desktop/data1/士林區2009.xlsx\n",
      "C:/Users/Big data/Desktop/data1/士林區2010.xlsx\n",
      "C:/Users/Big data/Desktop/data1/士林區2011.xlsx\n",
      "C:/Users/Big data/Desktop/data1/士林區2012.xlsx\n",
      "C:/Users/Big data/Desktop/data1/士林區2013.xlsx\n",
      "C:/Users/Big data/Desktop/data1/士林區2014.xlsx\n",
      "C:/Users/Big data/Desktop/data1/士林區2015.xlsx\n",
      "C:/Users/Big data/Desktop/data1/士林區2016.xlsx\n",
      "C:/Users/Big data/Desktop/data1/士林區2017.xlsx\n",
      "C:/Users/Big data/Desktop/data1/士林區2018.xlsx\n"
     ]
    }
   ],
   "source": [
    "for i in range(len(fullpath)):\n",
    "    tables=pd.read_excel(fullpath[i])\n",
    "    tables['rentPrice']=tables['rentPrice'].apply(lambda x:int(x.replace(',','')))\n",
    "    tables['Area'] = tables['Area'].apply(lambda x:int(x))\n",
    "    tables['unitPrice'] = tables['rentPrice'] // tables['Area']\n",
    "    tables=tables.drop(['Area','rentPrice'],axis=1)\n",
    "    \n",
    "    writer='text.xlsx'\n",
    "    file_path ='C:/Users/Big data/Desktop/data1/'+filename[i]\n",
    "    writer = pd.ExcelWriter(file_path, engine='openpyxl')\n",
    "    tables.to_excel( writer,index=False,encoding='utf-8')\n",
    "    print(file_path)\n",
    "    writer.save()\n",
    "            \n",
    "    "
   ]
  },
  {
   "cell_type": "code",
   "execution_count": 22,
   "metadata": {
    "scrolled": false
   },
   "outputs": [
    {
     "data": {
      "text/html": [
       "<div>\n",
       "<style scoped>\n",
       "    .dataframe tbody tr th:only-of-type {\n",
       "        vertical-align: middle;\n",
       "    }\n",
       "\n",
       "    .dataframe tbody tr th {\n",
       "        vertical-align: top;\n",
       "    }\n",
       "\n",
       "    .dataframe thead th {\n",
       "        text-align: right;\n",
       "    }\n",
       "</style>\n",
       "<table border=\"1\" class=\"dataframe\">\n",
       "  <thead>\n",
       "    <tr style=\"text-align: right;\">\n",
       "      <th></th>\n",
       "      <th>dealTime</th>\n",
       "      <th>Usage</th>\n",
       "      <th>Type</th>\n",
       "      <th>Address</th>\n",
       "      <th>Area</th>\n",
       "      <th>rentPrice</th>\n",
       "      <th>Pattern</th>\n",
       "      <th>Floor</th>\n",
       "      <th>floorSum</th>\n",
       "      <th>lat</th>\n",
       "      <th>long</th>\n",
       "      <th>unitPrice</th>\n",
       "    </tr>\n",
       "  </thead>\n",
       "  <tbody>\n",
       "    <tr>\n",
       "      <th>0</th>\n",
       "      <td>2009-12</td>\n",
       "      <td>整層住家</td>\n",
       "      <td>公寓</td>\n",
       "      <td>大同區赤峰街</td>\n",
       "      <td>16</td>\n",
       "      <td>15,000</td>\n",
       "      <td>2房1廳1衛</td>\n",
       "      <td>3</td>\n",
       "      <td>4</td>\n",
       "      <td>25.055316</td>\n",
       "      <td>121.519635</td>\n",
       "      <td>NaN</td>\n",
       "    </tr>\n",
       "    <tr>\n",
       "      <th>1</th>\n",
       "      <td>2009-12</td>\n",
       "      <td>整層住家</td>\n",
       "      <td>電梯大樓</td>\n",
       "      <td>大同區西寧北路</td>\n",
       "      <td>29</td>\n",
       "      <td>19,000</td>\n",
       "      <td>3房2廳1衛</td>\n",
       "      <td>7</td>\n",
       "      <td>8</td>\n",
       "      <td>25.052696</td>\n",
       "      <td>121.508634</td>\n",
       "      <td>NaN</td>\n",
       "    </tr>\n",
       "    <tr>\n",
       "      <th>2</th>\n",
       "      <td>2009-12</td>\n",
       "      <td>整層住家</td>\n",
       "      <td>公寓</td>\n",
       "      <td>大同區南京西路</td>\n",
       "      <td>14</td>\n",
       "      <td>14,000</td>\n",
       "      <td>2房1廳1衛</td>\n",
       "      <td>2</td>\n",
       "      <td>5</td>\n",
       "      <td>25.053999</td>\n",
       "      <td>121.513293</td>\n",
       "      <td>NaN</td>\n",
       "    </tr>\n",
       "    <tr>\n",
       "      <th>3</th>\n",
       "      <td>2009-12</td>\n",
       "      <td>整層住家</td>\n",
       "      <td>公寓</td>\n",
       "      <td>大同區重慶北路</td>\n",
       "      <td>20</td>\n",
       "      <td>10,000</td>\n",
       "      <td>2房2廳1衛</td>\n",
       "      <td>1</td>\n",
       "      <td>4</td>\n",
       "      <td>25.058519</td>\n",
       "      <td>121.513709</td>\n",
       "      <td>NaN</td>\n",
       "    </tr>\n",
       "    <tr>\n",
       "      <th>4</th>\n",
       "      <td>2009-12</td>\n",
       "      <td>整層住家</td>\n",
       "      <td>電梯大樓</td>\n",
       "      <td>大同區寧夏路</td>\n",
       "      <td>25</td>\n",
       "      <td>18,000</td>\n",
       "      <td>2房1廳1衛</td>\n",
       "      <td>10</td>\n",
       "      <td>10</td>\n",
       "      <td>25.058141</td>\n",
       "      <td>121.515214</td>\n",
       "      <td>NaN</td>\n",
       "    </tr>\n",
       "  </tbody>\n",
       "</table>\n",
       "</div>"
      ],
      "text/plain": [
       "  dealTime Usage  Type  Address  Area rentPrice Pattern  Floor  floorSum  \\\n",
       "0  2009-12  整層住家    公寓   大同區赤峰街    16    15,000  2房1廳1衛      3         4   \n",
       "1  2009-12  整層住家  電梯大樓  大同區西寧北路    29    19,000  3房2廳1衛      7         8   \n",
       "2  2009-12  整層住家    公寓  大同區南京西路    14    14,000  2房1廳1衛      2         5   \n",
       "3  2009-12  整層住家    公寓  大同區重慶北路    20    10,000  2房2廳1衛      1         4   \n",
       "4  2009-12  整層住家  電梯大樓   大同區寧夏路    25    18,000  2房1廳1衛     10        10   \n",
       "\n",
       "         lat        long  unitPrice  \n",
       "0  25.055316  121.519635        NaN  \n",
       "1  25.052696  121.508634        NaN  \n",
       "2  25.053999  121.513293        NaN  \n",
       "3  25.058519  121.513709        NaN  \n",
       "4  25.058141  121.515214        NaN  "
      ]
     },
     "execution_count": 22,
     "metadata": {},
     "output_type": "execute_result"
    }
   ],
   "source": [
    "tables.head()"
   ]
  },
  {
   "cell_type": "code",
   "execution_count": 19,
   "metadata": {},
   "outputs": [],
   "source": [
    "tables['rentPrice'] = tables['rentPrice'].apply(lambda x:x.replace(',', ''))"
   ]
  },
  {
   "cell_type": "code",
   "execution_count": 22,
   "metadata": {},
   "outputs": [],
   "source": [
    "tables['rentPrice'] = tables['rentPrice'].apply(lambda x:int(x))"
   ]
  },
  {
   "cell_type": "code",
   "execution_count": 23,
   "metadata": {},
   "outputs": [],
   "source": [
    "tables['Area'] = tables['Area'].apply(lambda x:int(x))"
   ]
  },
  {
   "cell_type": "code",
   "execution_count": 24,
   "metadata": {},
   "outputs": [],
   "source": [
    "tables['unitPrice'] = tables['rentPrice'] // tables['Area']"
   ]
  },
  {
   "cell_type": "code",
   "execution_count": 32,
   "metadata": {},
   "outputs": [],
   "source": [
    "def cut(x):\n",
    "    return int(round(x, 0))"
   ]
  },
  {
   "cell_type": "code",
   "execution_count": 33,
   "metadata": {},
   "outputs": [],
   "source": [
    "tables['unitPrice'] = tables['unitPrice'].apply(cut)"
   ]
  },
  {
   "cell_type": "code",
   "execution_count": 7,
   "metadata": {
    "scrolled": false
   },
   "outputs": [
    {
     "name": "stdout",
     "output_type": "stream",
     "text": [
      "dealTime       2011-12\n",
      "Usage             分租套房\n",
      "Type               NaN\n",
      "Address      松山區民權東路三段\n",
      "Area                 0\n",
      "rentPrice            0\n",
      "Pattern            NaN\n",
      "Floor              NaN\n",
      "floorSum           NaN\n",
      "lat            25.0621\n",
      "long           121.544\n",
      "unitPrice          NaN\n",
      "Name: 1678, dtype: object\n"
     ]
    }
   ],
   "source": [
    "for position in fullpath:\n",
    "    table1=pd.read_excel(position)\n",
    "    table1['unitPrice']=np.nan\n",
    "    try:\n",
    "        for i in range(len(table1)):\n",
    "            \n",
    "            table1.loc[i,'unitPrice']=int(str(table1.loc[i,['rentPrice']]).split()[1].replace(',',''))//int(str(table1.loc[i,['Area']]).split()[1])\n",
    "           \n",
    "    except:\n",
    "        print( table1.iloc[i])\n",
    "    \n",
    "    "
   ]
  },
  {
   "cell_type": "code",
   "execution_count": null,
   "metadata": {},
   "outputs": [],
   "source": [
    "def divi():\n",
    "    \n",
    "    for i in range(len(tables)):\n",
    "        price=int(str(tables.loc[i,['rentPrice']]).split()[1].replace(',',''))//int(str(tables.loc[i,['Area']]).split()[1])\n",
    "    return price"
   ]
  },
  {
   "cell_type": "code",
   "execution_count": null,
   "metadata": {},
   "outputs": [],
   "source": [
    "def divi(x):\n",
    "    price=int(x)//tables['Area'].apply(lambda y:int(y))\n",
    "    return price"
   ]
  }
 ],
 "metadata": {
  "kernelspec": {
   "display_name": "Python 3",
   "language": "python",
   "name": "python3"
  },
  "language_info": {
   "codemirror_mode": {
    "name": "ipython",
    "version": 3
   },
   "file_extension": ".py",
   "mimetype": "text/x-python",
   "name": "python",
   "nbconvert_exporter": "python",
   "pygments_lexer": "ipython3",
   "version": "3.6.5"
  }
 },
 "nbformat": 4,
 "nbformat_minor": 2
}
